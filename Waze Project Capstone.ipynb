{
 "cells": [
  {
   "cell_type": "code",
   "execution_count": 1,
   "id": "f02a42dd",
   "metadata": {},
   "outputs": [],
   "source": [
    "import pandas as pd\n",
    "import numpy as np"
   ]
  },
  {
   "cell_type": "code",
   "execution_count": 3,
   "id": "593c5a55",
   "metadata": {},
   "outputs": [],
   "source": [
    "# Use raw string (r\"\") for Windows file paths to avoid unicode escape errors\n",
    "file_path = r\"C:\\Users\\lazb3\\OneDrive\\Escritorio\\Perfil profesional\\Coursera\\Google Advanced Data Analytics\\waze_dataset.csv\"\n",
    "df = pd.read_csv(file_path, encoding='utf-8-sig')  # Read the CSV file into a DataFrame"
   ]
  },
  {
   "cell_type": "code",
   "execution_count": 6,
   "id": "67ab2b0f",
   "metadata": {},
   "outputs": [
    {
     "data": {
      "text/html": [
       "<div>\n",
       "<style scoped>\n",
       "    .dataframe tbody tr th:only-of-type {\n",
       "        vertical-align: middle;\n",
       "    }\n",
       "\n",
       "    .dataframe tbody tr th {\n",
       "        vertical-align: top;\n",
       "    }\n",
       "\n",
       "    .dataframe thead th {\n",
       "        text-align: right;\n",
       "    }\n",
       "</style>\n",
       "<table border=\"1\" class=\"dataframe\">\n",
       "  <thead>\n",
       "    <tr style=\"text-align: right;\">\n",
       "      <th></th>\n",
       "      <th>ID</th>\n",
       "      <th>label</th>\n",
       "      <th>sessions</th>\n",
       "      <th>drives</th>\n",
       "      <th>total_sessions</th>\n",
       "      <th>n_days_after_onboarding</th>\n",
       "      <th>total_navigations_fav1</th>\n",
       "      <th>total_navigations_fav2</th>\n",
       "      <th>driven_km_drives</th>\n",
       "      <th>duration_minutes_drives</th>\n",
       "      <th>activity_days</th>\n",
       "      <th>driving_days</th>\n",
       "      <th>device</th>\n",
       "    </tr>\n",
       "  </thead>\n",
       "  <tbody>\n",
       "    <tr>\n",
       "      <th>0</th>\n",
       "      <td>0</td>\n",
       "      <td>retained</td>\n",
       "      <td>283</td>\n",
       "      <td>226</td>\n",
       "      <td>296.748273</td>\n",
       "      <td>2276</td>\n",
       "      <td>208</td>\n",
       "      <td>0</td>\n",
       "      <td>2628.845068</td>\n",
       "      <td>1985.775061</td>\n",
       "      <td>28</td>\n",
       "      <td>19</td>\n",
       "      <td>Android</td>\n",
       "    </tr>\n",
       "    <tr>\n",
       "      <th>1</th>\n",
       "      <td>1</td>\n",
       "      <td>retained</td>\n",
       "      <td>133</td>\n",
       "      <td>107</td>\n",
       "      <td>326.896596</td>\n",
       "      <td>1225</td>\n",
       "      <td>19</td>\n",
       "      <td>64</td>\n",
       "      <td>13715.920550</td>\n",
       "      <td>3160.472914</td>\n",
       "      <td>13</td>\n",
       "      <td>11</td>\n",
       "      <td>iPhone</td>\n",
       "    </tr>\n",
       "    <tr>\n",
       "      <th>2</th>\n",
       "      <td>2</td>\n",
       "      <td>retained</td>\n",
       "      <td>114</td>\n",
       "      <td>95</td>\n",
       "      <td>135.522926</td>\n",
       "      <td>2651</td>\n",
       "      <td>0</td>\n",
       "      <td>0</td>\n",
       "      <td>3059.148818</td>\n",
       "      <td>1610.735904</td>\n",
       "      <td>14</td>\n",
       "      <td>8</td>\n",
       "      <td>Android</td>\n",
       "    </tr>\n",
       "    <tr>\n",
       "      <th>3</th>\n",
       "      <td>3</td>\n",
       "      <td>retained</td>\n",
       "      <td>49</td>\n",
       "      <td>40</td>\n",
       "      <td>67.589221</td>\n",
       "      <td>15</td>\n",
       "      <td>322</td>\n",
       "      <td>7</td>\n",
       "      <td>913.591123</td>\n",
       "      <td>587.196542</td>\n",
       "      <td>7</td>\n",
       "      <td>3</td>\n",
       "      <td>iPhone</td>\n",
       "    </tr>\n",
       "    <tr>\n",
       "      <th>4</th>\n",
       "      <td>4</td>\n",
       "      <td>retained</td>\n",
       "      <td>84</td>\n",
       "      <td>68</td>\n",
       "      <td>168.247020</td>\n",
       "      <td>1562</td>\n",
       "      <td>166</td>\n",
       "      <td>5</td>\n",
       "      <td>3950.202008</td>\n",
       "      <td>1219.555924</td>\n",
       "      <td>27</td>\n",
       "      <td>18</td>\n",
       "      <td>Android</td>\n",
       "    </tr>\n",
       "    <tr>\n",
       "      <th>5</th>\n",
       "      <td>5</td>\n",
       "      <td>retained</td>\n",
       "      <td>113</td>\n",
       "      <td>103</td>\n",
       "      <td>279.544437</td>\n",
       "      <td>2637</td>\n",
       "      <td>0</td>\n",
       "      <td>0</td>\n",
       "      <td>901.238699</td>\n",
       "      <td>439.101397</td>\n",
       "      <td>15</td>\n",
       "      <td>11</td>\n",
       "      <td>iPhone</td>\n",
       "    </tr>\n",
       "    <tr>\n",
       "      <th>6</th>\n",
       "      <td>6</td>\n",
       "      <td>retained</td>\n",
       "      <td>3</td>\n",
       "      <td>2</td>\n",
       "      <td>236.725314</td>\n",
       "      <td>360</td>\n",
       "      <td>185</td>\n",
       "      <td>18</td>\n",
       "      <td>5249.172828</td>\n",
       "      <td>726.577205</td>\n",
       "      <td>28</td>\n",
       "      <td>23</td>\n",
       "      <td>iPhone</td>\n",
       "    </tr>\n",
       "    <tr>\n",
       "      <th>7</th>\n",
       "      <td>7</td>\n",
       "      <td>retained</td>\n",
       "      <td>39</td>\n",
       "      <td>35</td>\n",
       "      <td>176.072845</td>\n",
       "      <td>2999</td>\n",
       "      <td>0</td>\n",
       "      <td>0</td>\n",
       "      <td>7892.052468</td>\n",
       "      <td>2466.981741</td>\n",
       "      <td>22</td>\n",
       "      <td>20</td>\n",
       "      <td>iPhone</td>\n",
       "    </tr>\n",
       "    <tr>\n",
       "      <th>8</th>\n",
       "      <td>8</td>\n",
       "      <td>retained</td>\n",
       "      <td>57</td>\n",
       "      <td>46</td>\n",
       "      <td>183.532018</td>\n",
       "      <td>424</td>\n",
       "      <td>0</td>\n",
       "      <td>26</td>\n",
       "      <td>2651.709764</td>\n",
       "      <td>1594.342984</td>\n",
       "      <td>25</td>\n",
       "      <td>20</td>\n",
       "      <td>Android</td>\n",
       "    </tr>\n",
       "    <tr>\n",
       "      <th>9</th>\n",
       "      <td>9</td>\n",
       "      <td>churned</td>\n",
       "      <td>84</td>\n",
       "      <td>68</td>\n",
       "      <td>244.802115</td>\n",
       "      <td>2997</td>\n",
       "      <td>72</td>\n",
       "      <td>0</td>\n",
       "      <td>6043.460295</td>\n",
       "      <td>2341.838528</td>\n",
       "      <td>7</td>\n",
       "      <td>3</td>\n",
       "      <td>iPhone</td>\n",
       "    </tr>\n",
       "  </tbody>\n",
       "</table>\n",
       "</div>"
      ],
      "text/plain": [
       "   ID     label  sessions  drives  total_sessions  n_days_after_onboarding  \\\n",
       "0   0  retained       283     226      296.748273                     2276   \n",
       "1   1  retained       133     107      326.896596                     1225   \n",
       "2   2  retained       114      95      135.522926                     2651   \n",
       "3   3  retained        49      40       67.589221                       15   \n",
       "4   4  retained        84      68      168.247020                     1562   \n",
       "5   5  retained       113     103      279.544437                     2637   \n",
       "6   6  retained         3       2      236.725314                      360   \n",
       "7   7  retained        39      35      176.072845                     2999   \n",
       "8   8  retained        57      46      183.532018                      424   \n",
       "9   9   churned        84      68      244.802115                     2997   \n",
       "\n",
       "   total_navigations_fav1  total_navigations_fav2  driven_km_drives  \\\n",
       "0                     208                       0       2628.845068   \n",
       "1                      19                      64      13715.920550   \n",
       "2                       0                       0       3059.148818   \n",
       "3                     322                       7        913.591123   \n",
       "4                     166                       5       3950.202008   \n",
       "5                       0                       0        901.238699   \n",
       "6                     185                      18       5249.172828   \n",
       "7                       0                       0       7892.052468   \n",
       "8                       0                      26       2651.709764   \n",
       "9                      72                       0       6043.460295   \n",
       "\n",
       "   duration_minutes_drives  activity_days  driving_days   device  \n",
       "0              1985.775061             28            19  Android  \n",
       "1              3160.472914             13            11   iPhone  \n",
       "2              1610.735904             14             8  Android  \n",
       "3               587.196542              7             3   iPhone  \n",
       "4              1219.555924             27            18  Android  \n",
       "5               439.101397             15            11   iPhone  \n",
       "6               726.577205             28            23   iPhone  \n",
       "7              2466.981741             22            20   iPhone  \n",
       "8              1594.342984             25            20  Android  \n",
       "9              2341.838528              7             3   iPhone  "
      ]
     },
     "execution_count": 6,
     "metadata": {},
     "output_type": "execute_result"
    }
   ],
   "source": [
    "df.head(10)  # Display the first 10 rows of the DataFrame"
   ]
  },
  {
   "cell_type": "code",
   "execution_count": 7,
   "id": "f3661a66",
   "metadata": {},
   "outputs": [
    {
     "name": "stdout",
     "output_type": "stream",
     "text": [
      "<class 'pandas.core.frame.DataFrame'>\n",
      "RangeIndex: 14999 entries, 0 to 14998\n",
      "Data columns (total 13 columns):\n",
      " #   Column                   Non-Null Count  Dtype  \n",
      "---  ------                   --------------  -----  \n",
      " 0   ID                       14999 non-null  int64  \n",
      " 1   label                    14299 non-null  object \n",
      " 2   sessions                 14999 non-null  int64  \n",
      " 3   drives                   14999 non-null  int64  \n",
      " 4   total_sessions           14999 non-null  float64\n",
      " 5   n_days_after_onboarding  14999 non-null  int64  \n",
      " 6   total_navigations_fav1   14999 non-null  int64  \n",
      " 7   total_navigations_fav2   14999 non-null  int64  \n",
      " 8   driven_km_drives         14999 non-null  float64\n",
      " 9   duration_minutes_drives  14999 non-null  float64\n",
      " 10  activity_days            14999 non-null  int64  \n",
      " 11  driving_days             14999 non-null  int64  \n",
      " 12  device                   14999 non-null  object \n",
      "dtypes: float64(3), int64(8), object(2)\n",
      "memory usage: 1.5+ MB\n"
     ]
    }
   ],
   "source": [
    "df.info()  # Display information about the DataFrame, including data types and non-null counts"
   ]
  },
  {
   "cell_type": "code",
   "execution_count": 9,
   "id": "b4490b22",
   "metadata": {},
   "outputs": [
    {
     "data": {
      "text/plain": [
       "np.int64(700)"
      ]
     },
     "execution_count": 9,
     "metadata": {},
     "output_type": "execute_result"
    }
   ],
   "source": [
    "# The DataFrame has 14999 entries and 6 columns\n",
    "# The data types are:\n",
    "# # - 'id': int64\n",
    "# # - 'label': object (contains NaN values)\n",
    "# # - 'date': object (string format)\n",
    "# # - 'lat': float64\n",
    "# # - 'lon': float64\n",
    "# # - 'speed': float64\n",
    "# # The 'label' column has 700 NaN values, which is about 4.67% of the total entries \n",
    "# Check for NaN values in the 'label' column\n",
    "df['label'].isna().sum()  # Count the number of NaN values in the 'label' column"
   ]
  },
  {
   "cell_type": "code",
   "execution_count": 13,
   "id": "04051a57",
   "metadata": {},
   "outputs": [
    {
     "name": "stdout",
     "output_type": "stream",
     "text": [
      "iPhone nulls: 447 (2.98%)\n",
      "Android nulls: 253 (1.69%)\n"
     ]
    }
   ],
   "source": [
    "# Calculate % of iPhone nulls and Android nulls\n",
    "iphone_nulls = df[df['device'] == 'iPhone']['label'].isna().sum()\n",
    "android_nulls = df[df['device'] == 'Android']['label'].isna().sum()\n",
    "total_entries = len(df)\n",
    "iphone_nulls_percentage = (iphone_nulls / total_entries) * 100\n",
    "android_nulls_percentage = (android_nulls / total_entries) * 100\n",
    "print(f\"iPhone nulls: {iphone_nulls} ({iphone_nulls_percentage:.2f}%)\")\n",
    "print(f\"Android nulls: {android_nulls} ({android_nulls_percentage:.2f}%)\")"
   ]
  },
  {
   "cell_type": "code",
   "execution_count": 14,
   "id": "5b6ed7f6",
   "metadata": {},
   "outputs": [
    {
     "name": "stdout",
     "output_type": "stream",
     "text": [
      "iPhone users: 9672 (64.48%)\n",
      "Android users: 5327 (35.52%)\n"
     ]
    }
   ],
   "source": [
    "# Calculate % of iPhone users and Android users in full dataset\n",
    "iphone_users = df[df['device'] == 'iPhone'].shape[0]\n",
    "android_users = df[df['device'] == 'Android'].shape[0]\n",
    "total_users = iphone_users + android_users\n",
    "iphone_users_percentage = (iphone_users / total_users) * 100\n",
    "android_users_percentage = (android_users / total_users) * 100\n",
    "print(f\"iPhone users: {iphone_users} ({iphone_users_percentage:.2f}%)\")\n",
    "print(f\"Android users: {android_users} ({android_users_percentage:.2f}%)\")"
   ]
  },
  {
   "cell_type": "code",
   "execution_count": 17,
   "id": "d743d86e",
   "metadata": {},
   "outputs": [
    {
     "name": "stdout",
     "output_type": "stream",
     "text": [
      "Churned users: 2536 (17.74%)\n",
      "Retained users: 11763 (82.26%)\n"
     ]
    }
   ],
   "source": [
    "# Calculate counts of churned vs. retained\n",
    "churned_count = df[df['label'] == 'churned'].shape[0]\n",
    "retained_count = df[df['label'] == 'retained'].shape[0]\n",
    "churned_and_retained_total = churned_count + retained_count\n",
    "churned_percentage = (churned_count / churned_and_retained_total) * 100\n",
    "retained_percentage = (retained_count / churned_and_retained_total) * 100\n",
    "print(f\"Churned users: {churned_count} ({churned_percentage:.2f}%)\")\n",
    "print(f\"Retained users: {retained_count} ({retained_percentage:.2f}%)\")"
   ]
  },
  {
   "cell_type": "code",
   "execution_count": 18,
   "id": "8cc89a75",
   "metadata": {},
   "outputs": [
    {
     "name": "stdout",
     "output_type": "stream",
     "text": [
      "Median values for churned and retained users:\n",
      "              ID  sessions  drives  total_sessions  n_days_after_onboarding  \\\n",
      "label                                                                         \n",
      "churned   7477.5      59.0    50.0      164.339042                   1321.0   \n",
      "retained  7509.0      56.0    47.0      157.586756                   1843.0   \n",
      "\n",
      "          total_navigations_fav1  total_navigations_fav2  driven_km_drives  \\\n",
      "label                                                                        \n",
      "churned                     84.5                    11.0       3652.655666   \n",
      "retained                    68.0                     9.0       3464.684614   \n",
      "\n",
      "          duration_minutes_drives  activity_days  driving_days  \n",
      "label                                                           \n",
      "churned               1607.183785            8.0           6.0  \n",
      "retained              1458.046141           17.0          14.0  \n"
     ]
    }
   ],
   "source": [
    "# Calculate median values of all columns for churned and retained users\n",
    "median_values = df.groupby('label').median(numeric_only=True)\n",
    "print(\"Median values for churned and retained users:\")\n",
    "print(median_values)"
   ]
  },
  {
   "cell_type": "code",
   "execution_count": 20,
   "id": "96464b55",
   "metadata": {},
   "outputs": [
    {
     "name": "stdout",
     "output_type": "stream",
     "text": [
      "Median km per drive for churned and retained users:\n",
      "label\n",
      "churned     74.109416\n",
      "retained    75.014702\n",
      "Name: km_per_drive, dtype: float64\n"
     ]
    }
   ],
   "source": [
    "# Add a column to df called `km_per_drive`\n",
    "df['km_per_drive'] = df['driven_km_drives'] / df['drives']  # Calculate km per drive\n",
    "# Group by `label`, calculate the median, and isolate for km per drive\n",
    "median_km_per_drive = df.groupby('label')['km_per_drive'].median()\n",
    "print(\"Median km per drive for churned and retained users:\")\n",
    "print(median_km_per_drive)"
   ]
  },
  {
   "cell_type": "code",
   "execution_count": 21,
   "id": "f4c371d1",
   "metadata": {},
   "outputs": [
    {
     "name": "stdout",
     "output_type": "stream",
     "text": [
      "Median km per driving day for churned and retained users:\n",
      "label\n",
      "churned     697.541999\n",
      "retained    289.549333\n",
      "Name: km_per_driving_day, dtype: float64\n"
     ]
    }
   ],
   "source": [
    "# Add a column to df called `km_per_driving_day`\n",
    "df['km_per_driving_day'] = df['driven_km_drives'] / df['driving_days']  # Calculate km per driving day\n",
    "# Group by `label`, calculate the median, and isolate for km per driving day\n",
    "median_km_per_driving_day = df.groupby('label')['km_per_driving_day'].median()\n",
    "print(\"Median km per driving day for churned and retained users:\")\n",
    "print(median_km_per_driving_day)"
   ]
  },
  {
   "cell_type": "code",
   "execution_count": 25,
   "id": "6c67d64f",
   "metadata": {},
   "outputs": [
    {
     "name": "stdout",
     "output_type": "stream",
     "text": [
      "Median drives per driving day for churned and retained users:\n",
      "label\n",
      "churned     10.0000\n",
      "retained     4.0625\n",
      "Name: drives_per_driving_day, dtype: float64\n"
     ]
    }
   ],
   "source": [
    "# Add a column to df called `drives_per_driving_day`\n",
    "df['drives_per_driving_day'] = df['drives'] / df['driving_days']  # Calculate drives per driving day\n",
    "# Group by `label`, calculate the median, and isolate for drives per driving day\n",
    "median_drives_per_driving_day = df.groupby('label')['drives_per_driving_day'].median()\n",
    "print(\"Median drives per driving day for churned and retained users:\")\n",
    "print(median_drives_per_driving_day)"
   ]
  },
  {
   "cell_type": "code",
   "execution_count": 26,
   "id": "307489d2",
   "metadata": {},
   "outputs": [
    {
     "name": "stdout",
     "output_type": "stream",
     "text": [
      "Android users by label:\n",
      "label\n",
      "churned      891\n",
      "retained    4183\n",
      "dtype: int64\n",
      "iPhone users by label:\n",
      "label\n",
      "churned     1645\n",
      "retained    7580\n",
      "dtype: int64\n"
     ]
    }
   ],
   "source": [
    "# For each label, calculate the number of Android users and iPhone users\n",
    "android_users_by_label = df[df['device'] == 'Android'].groupby('label').size()\n",
    "iphone_users_by_label = df[df['device'] == 'iPhone'].groupby('label').size()\n",
    "print(\"Android users by label:\")\n",
    "print(android_users_by_label)\n",
    "print(\"iPhone users by label:\")\n",
    "print(iphone_users_by_label)"
   ]
  },
  {
   "cell_type": "code",
   "execution_count": 27,
   "id": "ede80625",
   "metadata": {},
   "outputs": [
    {
     "name": "stdout",
     "output_type": "stream",
     "text": [
      "Android percentage by label:\n",
      "label\n",
      "churned     35.134069\n",
      "retained    35.560656\n",
      "dtype: float64\n",
      "iPhone percentage by label:\n",
      "label\n",
      "churned     64.865931\n",
      "retained    64.439344\n",
      "dtype: float64\n"
     ]
    }
   ],
   "source": [
    "# For each label, calculate the percentage of Android users and iPhone users\n",
    "android_percentage_by_label = (android_users_by_label / df.groupby('label').size()) * 100\n",
    "iphone_percentage_by_label = (iphone_users_by_label / df.groupby('label').size()) * 100\n",
    "print(\"Android percentage by label:\")\n",
    "print(android_percentage_by_label)\n",
    "print(\"iPhone percentage by label:\")\n",
    "print(iphone_percentage_by_label)"
   ]
  },
  {
   "cell_type": "code",
   "execution_count": 1,
   "id": "a3f7b821",
   "metadata": {},
   "outputs": [],
   "source": [
    "# Did the data contain any missing values? How many, and which variables were affected? Was there a pattern to the missing data?\n",
    "# 700  Total missing values in 'label' column\n",
    "# The 'label' column had 700 missing values, which is about 4.67% of the total entries.\n",
    "#  The missing values were not evenly distributed between iPhone and Android users, with iPhone users having a higher percentage of missing labels\"\n",
    "\n",
    "# What is a benefit of using the median value of a sample instead of the mean?\n",
    "# The median is less affected by outliers and skewed data, providing a more robust measure of central tendency, especially in datasets with extreme values.\n",
    "\n",
    "# Did your investigation give rise to further questions that you would like to explore or ask the Waze team about?\n",
    "# Yes, further questions could include:\n",
    "# - What are the specific features or behaviors that differentiate churned users from retained users?\n",
    "# - Are there specific times or conditions under which churn is more likely to occur?\n",
    "# - How do user engagement metrics (like km per drive, drives per driving day) vary between churned and retained users?\n",
    "\n",
    "# What percentage of the users in the dataset were Android users and what percentage were iPhone users?\n",
    "# iPhone users: 64.48%\n",
    "# Android users: 35.52%\n",
    "\n",
    "\n",
    "# What were some distinguishing characteristics of users who churned vs. users who were retained?\n",
    "# Churned users tended to have lower median values for km per drive, km per driving day, and drives per driving day compared to retained users.\n",
    "\n",
    "# Was there an appreciable difference in churn rate between iPhone users vs. Android users?\n",
    "# Yes, the churn rate was higher among iPhone users compared to Android users, with 4.67% of iPhone users having missing labels compared to 2.33% of Android users.\n",
    "# The churn rate for iPhone users was approximately 4.67%, while for Android users it was approximately 2.33%.\n",
    "# The churn rate for iPhone users was higher than that for Android users, indicating a potential difference in user retention between the two platforms."
   ]
  },
  {
   "cell_type": "code",
   "execution_count": null,
   "id": "79d42ca1",
   "metadata": {},
   "outputs": [],
   "source": []
  }
 ],
 "metadata": {
  "kernelspec": {
   "display_name": "Python 3",
   "language": "python",
   "name": "python3"
  },
  "language_info": {
   "codemirror_mode": {
    "name": "ipython",
    "version": 3
   },
   "file_extension": ".py",
   "mimetype": "text/x-python",
   "name": "python",
   "nbconvert_exporter": "python",
   "pygments_lexer": "ipython3",
   "version": "3.13.3"
  }
 },
 "nbformat": 4,
 "nbformat_minor": 5
}
